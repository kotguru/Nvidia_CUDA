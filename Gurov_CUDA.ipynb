{
  "nbformat": 4,
  "nbformat_minor": 0,
  "metadata": {
    "colab": {
      "name": "Gurov_CUDA.ipynb",
      "provenance": [],
      "collapsed_sections": [],
      "authorship_tag": "ABX9TyNC529B5+6cb+4tDVXi/c57",
      "include_colab_link": true
    },
    "kernelspec": {
      "name": "python3",
      "display_name": "Python 3"
    },
    "accelerator": "GPU"
  },
  "cells": [
    {
      "cell_type": "markdown",
      "metadata": {
        "id": "view-in-github",
        "colab_type": "text"
      },
      "source": [
        "<a href=\"https://colab.research.google.com/github/kotguru/Nvidia_CUDA/blob/main/Gurov_CUDA.ipynb\" target=\"_parent\"><img src=\"https://colab.research.google.com/assets/colab-badge.svg\" alt=\"Open In Colab\"/></a>"
      ]
    },
    {
      "cell_type": "code",
      "metadata": {
        "id": "tQfjQ3DVUNfy"
      },
      "source": [
        "!apt-get --purge remove cuda nvidia* libnvidia-*\r\n",
        "!dpkg -l | grep cuda- | awk '{print $2}' | xargs -n1 dpkg --purge\r\n",
        "!apt-get remove cuda-*\r\n",
        "!apt autoremove\r\n",
        "!apt-get update"
      ],
      "execution_count": null,
      "outputs": []
    },
    {
      "cell_type": "code",
      "metadata": {
        "id": "qNIW5Ne6UZBr"
      },
      "source": [
        "!wget https://developer.nvidia.com/compute/cuda/9.2/Prod/local_installers/cuda-repo-ubuntu1604-9-2-local_9.2.88-1_amd64 -O cuda-repo-ubuntu1604-9-2-local_9.2.88-1_amd64.deb\r\n",
        "!dpkg -i cuda-repo-ubuntu1604-9-2-local_9.2.88-1_amd64.deb\r\n",
        "!apt-key add /var/cuda-repo-9-2-local/7fa2af80.pub\r\n",
        "!apt-get update\r\n",
        "!apt-get install cuda-9.2"
      ],
      "execution_count": null,
      "outputs": []
    },
    {
      "cell_type": "code",
      "metadata": {
        "id": "AfCeRX3VWzGj"
      },
      "source": [
        "!pip install git+git://github.com/andreinechaev/nvcc4jupyter.git"
      ],
      "execution_count": null,
      "outputs": []
    },
    {
      "cell_type": "code",
      "metadata": {
        "id": "RkTeZXDLWzuc"
      },
      "source": [
        "%load_ext nvcc_plugin"
      ],
      "execution_count": null,
      "outputs": []
    },
    {
      "cell_type": "code",
      "metadata": {
        "colab": {
          "base_uri": "https://localhost:8080/"
        },
        "id": "hYkoxZ0abplw",
        "outputId": "34f6d2fc-db73-4fd2-ecf7-f09a72afb19b"
      },
      "source": [
        "!lscpu"
      ],
      "execution_count": null,
      "outputs": [
        {
          "output_type": "stream",
          "text": [
            "Architecture:        x86_64\n",
            "CPU op-mode(s):      32-bit, 64-bit\n",
            "Byte Order:          Little Endian\n",
            "CPU(s):              2\n",
            "On-line CPU(s) list: 0,1\n",
            "Thread(s) per core:  2\n",
            "Core(s) per socket:  1\n",
            "Socket(s):           1\n",
            "NUMA node(s):        1\n",
            "Vendor ID:           GenuineIntel\n",
            "CPU family:          6\n",
            "Model:               79\n",
            "Model name:          Intel(R) Xeon(R) CPU @ 2.20GHz\n",
            "Stepping:            0\n",
            "CPU MHz:             2200.000\n",
            "BogoMIPS:            4400.00\n",
            "Hypervisor vendor:   KVM\n",
            "Virtualization type: full\n",
            "L1d cache:           32K\n",
            "L1i cache:           32K\n",
            "L2 cache:            256K\n",
            "L3 cache:            56320K\n",
            "NUMA node0 CPU(s):   0,1\n",
            "Flags:               fpu vme de pse tsc msr pae mce cx8 apic sep mtrr pge mca cmov pat pse36 clflush mmx fxsr sse sse2 ss ht syscall nx pdpe1gb rdtscp lm constant_tsc rep_good nopl xtopology nonstop_tsc cpuid tsc_known_freq pni pclmulqdq ssse3 fma cx16 pcid sse4_1 sse4_2 x2apic movbe popcnt aes xsave avx f16c rdrand hypervisor lahf_lm abm 3dnowprefetch invpcid_single ssbd ibrs ibpb stibp fsgsbase tsc_adjust bmi1 hle avx2 smep bmi2 erms invpcid rtm rdseed adx smap xsaveopt arat md_clear arch_capabilities\n"
          ],
          "name": "stdout"
        }
      ]
    },
    {
      "cell_type": "code",
      "metadata": {
        "id": "filaPmFXbq4v"
      },
      "source": [
        "!apt install lshw"
      ],
      "execution_count": null,
      "outputs": []
    },
    {
      "cell_type": "code",
      "metadata": {
        "colab": {
          "base_uri": "https://localhost:8080/"
        },
        "id": "lTI4qcmqbvPp",
        "outputId": "26755c36-70c6-4b6f-e746-1d3fb2e79d23"
      },
      "source": [
        "!lshw -c video"
      ],
      "execution_count": null,
      "outputs": [
        {
          "output_type": "stream",
          "text": [
            "\r\rDMI\r\r   \rSMP\r\r   \rPA-RISC\r\r       \rdevice-tree\r\r           \rSPD\r\r   \rmemory\r\r      \r/proc/cpuinfo\r\r             \rCPUID\r\r     \rPCI (sysfs)\r\r           \rISA PnP\r\r       \rPCMCIA\r\r      \rPCMCIA\r\r      \rVirtual I/O (VIRTIO) devices\r\r                            \rkernel device tree (sysfs)\r\r                          \rUSB\r\r   \rIDE\r\r   \rSCSI\r\r    \rNetwork interfaces\r\r                  \rFramebuffer devices\r\r                   \rDisplay\r\r       \rCPUFreq\r\r       \rABI\r\r   \r\r  *-display\n",
            "       description: 3D controller\n",
            "       product: NVIDIA Corporation\n",
            "       vendor: NVIDIA Corporation\n",
            "       physical id: 4\n",
            "       bus info: pci@0000:00:04.0\n",
            "       version: a1\n",
            "       width: 64 bits\n",
            "       clock: 33MHz\n",
            "       capabilities: msix pm bus_master cap_list\n",
            "       configuration: driver=nvidia latency=0\n",
            "       resources: iomemory:30-2f iomemory:30-2f irq:11 memory:c0000000-c0ffffff memory:380000000-38fffffff memory:390000000-391ffffff\n"
          ],
          "name": "stdout"
        }
      ]
    },
    {
      "cell_type": "code",
      "metadata": {
        "colab": {
          "base_uri": "https://localhost:8080/"
        },
        "id": "aKoeLA3zW3HG",
        "outputId": "f8415e7c-2704-4768-d70e-39275b3e5ef0"
      },
      "source": [
        "%%cu\r\n",
        "#include <stdlib.h> \r\n",
        "#include <stdio.h> \r\n",
        "#include <string.h> \r\n",
        "#include <math.h> \r\n",
        "#include <time.h>\r\n",
        "\r\n",
        "#define CIRCLE_CONSTRAIN 10\r\n",
        "#define RIGTH_CONSTRAINT 350\r\n",
        "#define TOP_CONSTRAINT 350\r\n",
        "#define BOTTOM_CONSTRAINT 300\r\n",
        "\r\n",
        "\r\n",
        "int M, N;\r\n",
        "int An;\r\n",
        "\r\n",
        "double *A; \r\n",
        "double *x; \r\n",
        "int *rep;\r\n",
        "\r\n",
        "double *Device_A; \r\n",
        "double *Device_x; \r\n",
        "int *Device_rep;\r\n",
        "\r\n",
        "long double T = 50.0;  \r\n",
        "long double c = 1; \r\n",
        "long double den = 1; \r\n",
        "long double alph = 1; \r\n",
        "long double dx = 0.3; \r\n",
        "long double dy = 0.3;\r\n",
        "\r\n",
        "void write_to(int id, int k, int num);\r\n",
        "void fill_matrix(int num);\r\n",
        "\r\n",
        "\r\n",
        "__global__ void straight_gauss(int n, double *A1, double* x1) \r\n",
        "{\r\n",
        "    double a;\r\n",
        "\r\n",
        "    unsigned int k = blockIdx.x * blockDim.x + threadIdx.x;\r\n",
        "    if(k < n)\r\n",
        "    {\r\n",
        "        for (int j = k + 1; j < n; j++) \r\n",
        "        { \r\n",
        "            a = - A1[j * n + k] / A1[k * n + k]; \r\n",
        "            x1[j] += x1[k] * a; \r\n",
        "            \r\n",
        "            for (int i = k ; i < n; i++) \r\n",
        "                A1[j * n + i] += A1[k * n + i] * a; \r\n",
        "        }\r\n",
        "    }\r\n",
        "}\r\n",
        "\r\n",
        "__global__ void reverse_gauss(int n, double* A1, double* x1)\r\n",
        "{\r\n",
        "    x1[n - 1] /= A1[(n - 1) * (n + 1)]; \r\n",
        "\r\n",
        "    for (int i = n - 2; i >= 0; i--) \r\n",
        "    { \r\n",
        "        for (int j = i + 1; j < n; j++) \r\n",
        "            x1[i] -= x1[j] * A1[i * n + j]; \r\n",
        "        x1[i] /= A1[i * n + i]; \r\n",
        "    } \r\n",
        "}\r\n",
        "\r\n",
        "int main(int argc, char* argv[]) \r\n",
        "{\r\n",
        "    int numTr = 4;\r\n",
        "    int r, z, y; \r\n",
        "    int nur;\r\n",
        "\r\n",
        "    M = 8/dx; //размерность матрицы\r\n",
        "    N = 6/dy; \r\n",
        "    An = 3/dx; \r\n",
        "    rep = (int*) malloc(sizeof(double) * N * M); \r\n",
        "\r\n",
        "    nur = 0; \r\n",
        "    r = 3/dx-1;\r\n",
        " \r\n",
        "    for (int j = 0; j < N; j++)\r\n",
        "    {\r\n",
        "        for (int i = 0; i < M; i++) \r\n",
        "        {\r\n",
        "            z=i-(5/dx);\r\n",
        "            y=j-(3/dy);\r\n",
        "            \r\n",
        "            if ( ((z*z+y*y) >= r*r) &&  (i >= M-r) && (j >= N-r))\r\n",
        "            {\r\n",
        "                rep[j * M + i] = -1;\r\n",
        "            }\r\n",
        "            else \r\n",
        "            { \r\n",
        "                rep[j * M + i] = nur; \r\n",
        "                nur++; \r\n",
        "            } \r\n",
        "        }\r\n",
        "    }\r\n",
        "\r\n",
        "    A = (double*) malloc(sizeof(double) * nur * nur); //создаем массивы для коэффициентов и искомых значений\r\n",
        "    x = (double*) malloc(sizeof(double) * nur); \r\n",
        "\r\n",
        "    memset(x, 0, sizeof(double) * nur ); \r\n",
        "    memset(A, 0, sizeof(double) * nur * nur); \r\n",
        " \r\n",
        "    fill_matrix(nur); \r\n",
        "\r\n",
        "    cudaMalloc((void**)&Device_rep, sizeof(int)*N* M);\r\n",
        "    cudaMalloc((void**)&Device_x, sizeof(double) * nur);\r\n",
        "    cudaMalloc((void**)&Device_A,sizeof(double) * nur * nur);\r\n",
        "\r\n",
        "    cudaMemcpy(Device_rep, rep, sizeof(int) * N * M, cudaMemcpyHostToDevice);\r\n",
        "    cudaMemcpy(Device_x, x, sizeof(double) * nur, cudaMemcpyHostToDevice);\r\n",
        "    cudaMemcpy(Device_A, A, sizeof(double) * nur * nur, cudaMemcpyHostToDevice);\r\n",
        "\r\n",
        "    cudaError cudaStatus;\r\n",
        "    float timerValueGPU;\r\n",
        "    cudaEvent_t start, stop;\r\n",
        "    cudaEventCreate(&start);\r\n",
        "    cudaEventCreate(&stop);\r\n",
        " \r\n",
        "    dim3 N_Treads(numTr);\r\n",
        "    dim3 N_Block(nur * nur/numTr);\r\n",
        " \r\n",
        "    cudaEventRecord(start, 0);\r\n",
        " \r\n",
        "\tprintf(\"Straight gauss\\n\");\r\n",
        "    straight_gauss <<< N_Block, N_Treads >>> (nur, Device_A, Device_x); \r\n",
        "    cudaStatus = cudaGetLastError();\r\n",
        "    if (cudaStatus != cudaSuccess) \r\n",
        "    {\r\n",
        "        //std::cout << \"Straight gauss error:\" << cudaGetErrorString(cudaStatus) << std::endl;\r\n",
        "        printf(\"Straight gauss error: %s\\n\", cudaGetErrorString(cudaStatus));\r\n",
        "        return 0;\r\n",
        "    }\r\n",
        "    cudaDeviceSynchronize();\r\n",
        " \r\n",
        " //   cudaMemcpy(rep, Device_rep, sizeof(int) * N * M, cudaMemcpyDeviceToHost);\r\n",
        " //   cudaMemcpy(x, Device_x, sizeof(double) * nur, cudaMemcpyDeviceToHost);\r\n",
        " //   cudaMemcpy(A, Device_A, sizeof(double) * nur * nur, cudaMemcpyDeviceToHost);\r\n",
        "\r\n",
        "    printf(\"Reverse gauss\\n\");\r\n",
        "    reverse_gauss <<< N_Block, N_Treads >>> (nur, Device_A, Device_x); \r\n",
        "    cudaStatus = cudaGetLastError();\r\n",
        "    if (cudaStatus != cudaSuccess) \r\n",
        "    {\r\n",
        "        //std::cout << \"Reverse gauss error:\" << cudaGetErrorString(cudaStatus) << std::endl;\r\n",
        "        printf(\"Reverse gauss error: %s\\n\", cudaGetErrorString(cudaStatus));\r\n",
        "        return 0;\r\n",
        "    }\r\n",
        "    cudaDeviceSynchronize();\r\n",
        "\r\n",
        "    cudaMemcpy(rep, Device_rep, sizeof(int) * N * M, cudaMemcpyDeviceToHost);\r\n",
        "    cudaMemcpy(x, Device_x, sizeof(double) * nur, cudaMemcpyDeviceToHost);\r\n",
        "    cudaMemcpy(A, Device_A, sizeof(double) * nur * nur, cudaMemcpyDeviceToHost);\r\n",
        "\r\n",
        "    cudaEventRecord(stop, 0);\r\n",
        "    cudaEventSynchronize(stop);\r\n",
        "    cudaEventElapsedTime(&timerValueGPU, start, stop);\r\n",
        "\r\n",
        "    printf(\"Calculations time:  %f \\n\", float(timerValueGPU/1000));\r\n",
        "    cudaFree(Device_rep);\r\n",
        "    cudaFree(Device_A); \r\n",
        "    cudaFree(Device_x);\r\n",
        "}\r\n",
        "\r\n",
        "void write_to(int id, int k, int num) \r\n",
        "{ \r\n",
        "    double a = alph / c / den; \r\n",
        "    A[k * num + rep[id + M]] = a / dy / dy; \r\n",
        "    A[k * num + rep[id - M]] = a / dy / dy; \r\n",
        "    A[k * num + rep[id + 1]] = a / dx / dx; \r\n",
        "    A[k * num + rep[id - 1]] = a / dx / dx; \r\n",
        "    A[k * num + rep[id]] = - (2 * a / dx / dx) - (2 * a / dy / dy); \r\n",
        "}\r\n",
        "\r\n",
        "void fill_matrix(int num) \r\n",
        "{ \r\n",
        "    int z, y;\r\n",
        "    int k = 0; \r\n",
        "    int id; \r\n",
        "    float l, m;\r\n",
        "    int r=3/dx-1;\r\n",
        "    double a = alph / c / den; \r\n",
        "    //Перебираем всю матрицу\r\n",
        "\r\n",
        "    for (int j = 0; j < N; j++) \r\n",
        "    { \r\n",
        "        for (int i = 0; i < M; i++) \r\n",
        "        {\r\n",
        "            id = j * M + i; //номер текущего элемента\r\n",
        "            z = i-(5/dx);\r\n",
        "            y = j -(3/dy);\r\n",
        "         \r\n",
        "            if (((z*z+y*y) >= r*r) &&  (i >= M-r) && (j >= N-r)) //за круглой границей\r\n",
        "            { \r\n",
        "                continue; \r\n",
        "            } \r\n",
        "            else \r\n",
        "            if (((z*z+y*y) <= r*r ) && ( ((z+1)*(z+1)+y*y) > r*r ) && ( (z*z+(y+1)*(y+1)) < r*r ) && (i > M-r) && (j > N-r))\r\n",
        "            { \r\n",
        "                l =  (sqrt(r*r-y*y)-z) /dx;\r\n",
        "                A[k * num + rep[id + M]] = a / dy / dy; \r\n",
        "                A[k * num + rep[id - M]] = a / dy / dy; \r\n",
        "                A[k * num + rep[id - 1]] = 2* a / (l+1) / dx / dx; \r\n",
        "                A[k * num + rep[id]] = - (2 * a  / l /dx / dx) - (2 * a / dy / dy); \r\n",
        "                x[k] = (-2) * a * CIRCLE_CONSTRAIN / l / (l+1) / dx / dx ;\r\n",
        "            } \r\n",
        "            else \r\n",
        "            if (((z*z+y*y) <= r*r ) && ( ((z+1)*(z+1)+y*y) < r*r ) && ( (z*z+(y+1)*(y+1)) > r*r ) && (i > M-r) && (j > N-r))\r\n",
        "            { \r\n",
        "                m =  (sqrt(r*r-z*z)-y) /dy;\r\n",
        "                A[k * num + rep[id + 1]] = a / dx / dx; \r\n",
        "                A[k * num + rep[id - 1]] = a / dx / dx;  \r\n",
        "                A[k * num + rep[id - M]] = 2* a / (m+1) / dy / dy;  \r\n",
        "                A[k * num + rep[id]] = - (2 * a  / dx / dx) - (2 * a / m /dy / dy); \r\n",
        "                x[k] = (-2) * a * CIRCLE_CONSTRAIN / m / (m+1) / dy / dy ;\r\n",
        "            } \r\n",
        "            else \r\n",
        "            if (((z*z+y*y) <= r*r ) && ( ((z+1)*(z+1)+y*y) >= r*r ) && ( (z*z+(y+1)*(y+1)) >= r*r ) && (i > M-r) && (j > N-r))     \r\n",
        "            { \r\n",
        "                l =  (sqrt(r*r-y*y)-z) /dx;\r\n",
        "                m =  (sqrt(r*r-z*z)-y) /dy;\r\n",
        "                A[k * num + rep[id - M]] = 2* a / (m+1) / dy / dy; \r\n",
        "                A[k * num + rep[id - 1]] = 2* a / (l+1) / dx / dx; \r\n",
        "                A[k * num + rep[id]] = - (2 * a  / l /dx / dx) - (2 * a / m /dy / dy); \r\n",
        "                x[k] = ((-2) * a * CIRCLE_CONSTRAIN / l / (l+1) / dx / dx) + ((-2) * a * CIRCLE_CONSTRAIN / m / (m+1) / dy / dy);\r\n",
        "            } \r\n",
        "            else \r\n",
        "            if (j == 0 ) //нижняя граница\r\n",
        "            {\r\n",
        "                A[k * num + rep[id]] = 1;\r\n",
        "                x[k] = BOTTOM_CONSTRAINT;\r\n",
        "            } \r\n",
        "            else \r\n",
        "            if (j == N - 1) //верхняя граница\r\n",
        "            { \r\n",
        "                A[k * num + rep[id]] = 1;\r\n",
        "                x[k] = TOP_CONSTRAINT;\r\n",
        "            } \r\n",
        "            else \r\n",
        "            if (i == 0) //левая граница\r\n",
        "            {\r\n",
        "                A[k * num + rep[id+1]] = 1;\r\n",
        "                A[k * num + rep[id]] = -1 - dx;\r\n",
        "                x[k] = 0;\r\n",
        "            }\r\n",
        "            else \r\n",
        "            if (i == M - 1) //правая граница\r\n",
        "            {\r\n",
        "                A[k * num + rep[id]] = 1;\r\n",
        "                x[k] = RIGTH_CONSTRAINT;\r\n",
        "            }\r\n",
        "            else \r\n",
        "            if ( (i == 40) && ( j == 30))\r\n",
        "            { \r\n",
        "                x[k] = 10000;\r\n",
        "                write_to(id, k, num);\r\n",
        "            }\r\n",
        "            else \r\n",
        "            { \r\n",
        "                write_to(id, k, num);\r\n",
        "            }\r\n",
        "          \r\n",
        "            k++; \r\n",
        "        }\r\n",
        "    } \r\n",
        "}"
      ],
      "execution_count": null,
      "outputs": [
        {
          "output_type": "stream",
          "text": [
            "Straight gauss\n",
            "Reverse gauss\n",
            "Calculations time:  3.177509 \n",
            "\n"
          ],
          "name": "stdout"
        }
      ]
    },
    {
      "cell_type": "code",
      "metadata": {
        "id": "Bo2p1qO5bt-P"
      },
      "source": [
        ""
      ],
      "execution_count": null,
      "outputs": []
    }
  ]
}